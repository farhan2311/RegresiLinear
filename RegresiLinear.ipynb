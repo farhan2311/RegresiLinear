{
  "nbformat": 4,
  "nbformat_minor": 0,
  "metadata": {
    "colab": {
      "name": "RegresiLinear.ipynb",
      "provenance": [],
      "collapsed_sections": []
    },
    "kernelspec": {
      "name": "python3",
      "display_name": "Python 3"
    },
    "language_info": {
      "name": "python"
    }
  },
  "cells": [
    {
      "cell_type": "code",
      "metadata": {
        "id": "rt0ZXaQiO5Oa"
      },
      "source": [
        "# mempersiapakan library\n",
        "import numpy as np\n",
        "import pandas as pd\n",
        "import matplotlib.pyplot as plt\n",
        "import sklearn"
      ],
      "execution_count": 15,
      "outputs": []
    },
    {
      "cell_type": "code",
      "metadata": {
        "id": "d_BLUhDvPa9_"
      },
      "source": [
        "# memanggil dataset\n",
        "dataset = pd.read_excel('Daftar Harga Barang.xlsx')\n",
        "x = dataset.iloc[:, :-1].values\n",
        "y = dataset.iloc[:, 1].values"
      ],
      "execution_count": 16,
      "outputs": []
    },
    {
      "cell_type": "code",
      "metadata": {
        "colab": {
          "base_uri": "https://localhost:8080/"
        },
        "id": "yXOC8DjRQZAF",
        "outputId": "49ab3127-c217-47fc-cad7-e14f0ef93b08"
      },
      "source": [
        "print(x)"
      ],
      "execution_count": 17,
      "outputs": [
        {
          "output_type": "stream",
          "text": [
            "[[11000]\n",
            " [13500]\n",
            " [12700]\n",
            " [21300]\n",
            " [17500]\n",
            " [19400]\n",
            " [20500]\n",
            " [14600]\n",
            " [10500]\n",
            " [22600]\n",
            " [21000]\n",
            " [22300]\n",
            " [23100]\n",
            " [18800]\n",
            " [16700]\n",
            " [17900]\n",
            " [18200]\n",
            " [21500]\n",
            " [22700]\n",
            " [23400]]\n"
          ],
          "name": "stdout"
        }
      ]
    },
    {
      "cell_type": "code",
      "metadata": {
        "colab": {
          "base_uri": "https://localhost:8080/"
        },
        "id": "CxS8cljMRPk1",
        "outputId": "8aaab95d-c369-49d8-cb25-e8b72c4ddd7a"
      },
      "source": [
        "print(y)"
      ],
      "execution_count": 18,
      "outputs": [
        {
          "output_type": "stream",
          "text": [
            "[15000 16500 16000 25000 23500 24500 25000 18500 14000 26500 25000 27500\n",
            " 28000 23500 20000 23500 24000 27000 27500 29000]\n"
          ],
          "name": "stdout"
        }
      ]
    },
    {
      "cell_type": "code",
      "metadata": {
        "colab": {
          "base_uri": "https://localhost:8080/"
        },
        "id": "HVbG5j5aSbsW",
        "outputId": "b6a90305-1bdb-452d-82a7-b960e81eb110"
      },
      "source": [
        "dataset.keys()"
      ],
      "execution_count": 19,
      "outputs": [
        {
          "output_type": "execute_result",
          "data": {
            "text/plain": [
              "Index(['HargaBeli', 'HargaJual'], dtype='object')"
            ]
          },
          "metadata": {
            "tags": []
          },
          "execution_count": 19
        }
      ]
    },
    {
      "cell_type": "code",
      "metadata": {
        "colab": {
          "base_uri": "https://localhost:8080/"
        },
        "id": "kh7_qhbmVuoE",
        "outputId": "b15770a2-a1a8-448a-f204-8f47bbfa815c"
      },
      "source": [
        "dataset.shape"
      ],
      "execution_count": 20,
      "outputs": [
        {
          "output_type": "execute_result",
          "data": {
            "text/plain": [
              "(20, 2)"
            ]
          },
          "metadata": {
            "tags": []
          },
          "execution_count": 20
        }
      ]
    },
    {
      "cell_type": "code",
      "metadata": {
        "colab": {
          "base_uri": "https://localhost:8080/",
          "height": 204
        },
        "id": "QC_Se9XPVxrE",
        "outputId": "a12fc559-9a0d-4ad3-a139-b7dbd9755f50"
      },
      "source": [
        "# menampilkan isi sebagian dataset\n",
        "dataku = pd.DataFrame(dataset)\n",
        "dataku.head()"
      ],
      "execution_count": 21,
      "outputs": [
        {
          "output_type": "execute_result",
          "data": {
            "text/html": [
              "<div>\n",
              "<style scoped>\n",
              "    .dataframe tbody tr th:only-of-type {\n",
              "        vertical-align: middle;\n",
              "    }\n",
              "\n",
              "    .dataframe tbody tr th {\n",
              "        vertical-align: top;\n",
              "    }\n",
              "\n",
              "    .dataframe thead th {\n",
              "        text-align: right;\n",
              "    }\n",
              "</style>\n",
              "<table border=\"1\" class=\"dataframe\">\n",
              "  <thead>\n",
              "    <tr style=\"text-align: right;\">\n",
              "      <th></th>\n",
              "      <th>HargaBeli</th>\n",
              "      <th>HargaJual</th>\n",
              "    </tr>\n",
              "  </thead>\n",
              "  <tbody>\n",
              "    <tr>\n",
              "      <th>0</th>\n",
              "      <td>11000</td>\n",
              "      <td>15000</td>\n",
              "    </tr>\n",
              "    <tr>\n",
              "      <th>1</th>\n",
              "      <td>13500</td>\n",
              "      <td>16500</td>\n",
              "    </tr>\n",
              "    <tr>\n",
              "      <th>2</th>\n",
              "      <td>12700</td>\n",
              "      <td>16000</td>\n",
              "    </tr>\n",
              "    <tr>\n",
              "      <th>3</th>\n",
              "      <td>21300</td>\n",
              "      <td>25000</td>\n",
              "    </tr>\n",
              "    <tr>\n",
              "      <th>4</th>\n",
              "      <td>17500</td>\n",
              "      <td>23500</td>\n",
              "    </tr>\n",
              "  </tbody>\n",
              "</table>\n",
              "</div>"
            ],
            "text/plain": [
              "   HargaBeli  HargaJual\n",
              "0      11000      15000\n",
              "1      13500      16500\n",
              "2      12700      16000\n",
              "3      21300      25000\n",
              "4      17500      23500"
            ]
          },
          "metadata": {
            "tags": []
          },
          "execution_count": 21
        }
      ]
    },
    {
      "cell_type": "code",
      "metadata": {
        "id": "vEK89PYXV4G9"
      },
      "source": [
        "# Split Dataset menjadi Training Set dan Testing Set\n",
        "from sklearn.model_selection import train_test_split\n",
        "x_train, x_test, y_train, y_test = train_test_split(x, y, test_size =0.2, random_state=0)"
      ],
      "execution_count": 22,
      "outputs": []
    },
    {
      "cell_type": "code",
      "metadata": {
        "colab": {
          "base_uri": "https://localhost:8080/"
        },
        "id": "d2DGoyVAV6CH",
        "outputId": "b9052b92-8ad8-4e56-9dc4-42872f23561a"
      },
      "source": [
        "# Melakukan Fitting Simple Linear Regression pada Training Set\n",
        "from sklearn.linear_model import LinearRegression\n",
        "regressor = LinearRegression()\n",
        "regressor.fit(x_train, y_train)"
      ],
      "execution_count": 23,
      "outputs": [
        {
          "output_type": "execute_result",
          "data": {
            "text/plain": [
              "LinearRegression(copy_X=True, fit_intercept=True, n_jobs=None, normalize=False)"
            ]
          },
          "metadata": {
            "tags": []
          },
          "execution_count": 23
        }
      ]
    },
    {
      "cell_type": "code",
      "metadata": {
        "id": "njU7KOH0V9Jk"
      },
      "source": [
        "# mempredikasi hasil Test-Set\n",
        "x_pred = regressor.predict(x_test)"
      ],
      "execution_count": 24,
      "outputs": []
    },
    {
      "cell_type": "code",
      "metadata": {
        "colab": {
          "base_uri": "https://localhost:8080/",
          "height": 312
        },
        "id": "vRNV5TfNWAY_",
        "outputId": "028e3deb-4836-49e0-8a96-e1cff772f37c"
      },
      "source": [
        "# Visualisasi Data\n",
        "plt.scatter(dataku.HargaBeli, dataku.HargaJual)\n",
        "plt.xlabel(\"Harga Beli\")\n",
        "plt.ylabel(\"Harga Jual\")\n",
        "plt.title(\"Grafik Harga Beli vs Harga Jual\")\n",
        "plt.show"
      ],
      "execution_count": 25,
      "outputs": [
        {
          "output_type": "execute_result",
          "data": {
            "text/plain": [
              "<function matplotlib.pyplot.show>"
            ]
          },
          "metadata": {
            "tags": []
          },
          "execution_count": 25
        },
        {
          "output_type": "display_data",
          "data": {
            "image/png": "[encoded data removed]",
            "text/plain": [
              "<Figure size 432x288 with 1 Axes>"
            ]
          },
          "metadata": {
            "tags": [],
            "needs_background": "light"
          }
        }
      ]
    },
    {
      "cell_type": "code",
      "metadata": {
        "colab": {
          "base_uri": "https://localhost:8080/",
          "height": 513
        },
        "id": "72NxHKFzXZuc",
        "outputId": "fd413796-8cea-46b1-c080-811efe9d4ee5"
      },
      "source": [
        "# Visualisasi Hasil Prediksi Pada Training-Set\n",
        "# Ukuran plot\n",
        "plt.figure(figsize=(10,8))\n",
        "\n",
        "#Biru adalah data observasi\n",
        "plt.scatter(x_train, y_train, color = 'blue')\n",
        "\n",
        "# Garis merah adalah hasil prediksi dari machine learning\n",
        "plt.plot(x_train, regressor.predict(x_train), color = 'red')\n",
        "\n",
        "# Memberi Judul dan Label\n",
        "plt.title('Harga Beli terhadap Harga Jual (Training Set)')\n",
        "plt.xlabel('Harga Beli')\n",
        "plt.ylabel('Harga Jual')\n",
        "\n",
        "# Menampilkan plot\n",
        "plt.show()"
      ],
      "execution_count": 26,
      "outputs": [
        {
          "output_type": "display_data",
          "data": {
            "image/png": "[encoded data removed]",
            "text/plain": [
              "<Figure size 720x576 with 1 Axes>"
            ]
          },
          "metadata": {
            "tags": [],
            "needs_background": "light"
          }
        }
      ]
    },
    {
      "cell_type": "code",
      "metadata": {
        "colab": {
          "base_uri": "https://localhost:8080/",
          "height": 513
        },
        "id": "wU3SOrtRXnOi",
        "outputId": "73eda4ab-250b-4117-d891-14f773d481f0"
      },
      "source": [
        "# Visualisasi Hasil Prediksi Pada Test-Set\n",
        "# Ukuran plot\n",
        "plt.figure(figsize=(10,8))\n",
        "\n",
        "#Biru adalah data observasi\n",
        "plt.scatter(x_test, y_test, color = 'blue')\n",
        "\n",
        "# Garis merah adalah hasil prediksi dari machine learning\n",
        "plt.plot(x_test, regressor.predict(x_test), color = 'red')\n",
        "\n",
        "# Memberi Judul dan Label\n",
        "plt.title('Harga Beli terhadap Harga Jual (Test Set)')\n",
        "plt.xlabel('Harga Beli')\n",
        "plt.ylabel('Harga Jual')\n",
        "\n",
        "# Menampilkan plot\n",
        "plt.show()"
      ],
      "execution_count": 27,
      "outputs": [
        {
          "output_type": "display_data",
          "data": {
            "image/png": "[encoded data removed]",
            "text/plain": [
              "<Figure size 720x576 with 1 Axes>"
            ]
          },
          "metadata": {
            "tags": [],
            "needs_background": "light"
          }
        }
      ]
    }
  ]
}